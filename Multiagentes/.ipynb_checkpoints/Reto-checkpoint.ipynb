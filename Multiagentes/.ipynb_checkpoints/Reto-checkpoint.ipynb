{
 "cells": [
  {
   "cell_type": "code",
   "execution_count": 117,
   "metadata": {},
   "outputs": [],
   "source": [
    "# Importamos las clases que se requieren para manejar los agentes (Agent) y su entorno (Model).\n",
    "# Cada modelo puede contener múltiples agentes.\n",
    "from mesa import Agent, Model \n",
    "\n",
    "# Debido a que necesitamos que existe un solo agente por celda, elegimos ''SingleGrid''.\n",
    "from mesa.space import SingleGrid\n",
    "\n",
    "# Con ''SimultaneousActivation, hacemos que todos los agentes se activen ''al mismo tiempo''.\n",
    "from mesa.time import BaseScheduler\n",
    "\n",
    "# Haremos uso de ''DataCollector'' para obtener información de cada paso de la simulación.\n",
    "from mesa.datacollection import DataCollector\n",
    "\n",
    "# matplotlib lo usaremos crear una animación de cada uno de los pasos del modelo.\n",
    "%matplotlib inline\n",
    "import matplotlib\n",
    "import matplotlib.pyplot as plt\n",
    "import matplotlib.animation as animation\n",
    "plt.rcParams[\"animation.html\"] = \"jshtml\"\n",
    "matplotlib.rcParams['animation.embed_limit'] = 2**128\n",
    "\n",
    "# Importamos los siguientes paquetes para el mejor manejo de valores numéricos.\n",
    "import numpy as np\n",
    "import pandas as pd\n",
    "\n",
    "# Definimos otros paquetes que vamos a usar para medir el tiempo de ejecución de nuestro algoritmo.\n",
    "import time\n",
    "import datetime"
   ]
  },
  {
   "cell_type": "code",
   "execution_count": 118,
   "metadata": {},
   "outputs": [],
   "source": [
    "class VehicleAgent(Agent):\n",
    "\n",
    "    def __init__(self, unique_id, model, initialLane):\n",
    "        super().__init__(unique_id, model)\n",
    "        self.speed = 3\n",
    "        self.lane = initialLane\n",
    "        self.stop = False\n",
    "\n",
    "    # 0 es x // 1 es y\n",
    "    def getFrontEmptySpaces(self):\n",
    "        # Get front empty spaces\n",
    "        frontEmptySpaces = 0\n",
    "        for i in range(1, 4):\n",
    "            if self.model.grid.is_cell_empty((self.pos[0],self.pos[1]+i)):\n",
    "                frontEmptySpaces += 1\n",
    "            else:\n",
    "                break\n",
    "        return frontEmptySpaces\n",
    "\n",
    "    def getFrontVehicle(self):\n",
    "        # Get front vehicle\n",
    "        frontVehicle = None\n",
    "        for i in range(1, 4):\n",
    "            if not self.model.grid.is_cell_empty((self.pos[0], self.pos[1] + i)):\n",
    "                frontVehicle = self.model.grid.get_cell_list_contents([(self.pos[0], self.pos[1] + i)])[0]\n",
    "                break\n",
    "        return frontVehicle\n",
    "\n",
    "    def whereToChange(self):\n",
    "        # Check if there is a vehicle in the next lane\n",
    "        rightLane = []\n",
    "        leftlane = []\n",
    "        if self.model.grid.is_cell_empty((self.pos[0] + 1, self.pos[1])):\n",
    "            rightLane = [self.pos[0] + 1, self.pos[1]]\n",
    "        elif self.model.grid.is_cell_empty((self.pos[0] - 1, self.pos[1])):\n",
    "            leftlane = [self.pos[0] - 1, self.pos[1]]\n",
    "        # If right lane is empty, change to right lane\n",
    "        if rightLane:\n",
    "            return rightLane\n",
    "        # If left lane is empty, change to left lane\n",
    "        elif leftlane:\n",
    "            return leftlane\n",
    "        # If there is no empty lane, stay in the same lane\n",
    "        else:\n",
    "            return self.pos\n",
    "    \n",
    "    def changeLane(self, laneToChange):\n",
    "        # Change lane\n",
    "        self.model.grid.move_agent(self, laneToChange)\n",
    "        self.lane = laneToChange[0]\n",
    "        self.step(self)\n",
    "\n",
    "    def step(self):\n",
    "        # Get front empty spaces\n",
    "        frontEmptySpaces = self.getFrontEmptySpaces()\n",
    "        # Get front vehicle\n",
    "        frontVehicle = self.getFrontVehicle()\n",
    "        if frontVehicle is not None:\n",
    "            if frontEmptySpaces == 2 or frontEmptySpaces == 1:\n",
    "                if self.lane == 1 and frontVehicle.speed < self.speed:\n",
    "                    if frontVehicle.speed == 0:\n",
    "                        laneToChange = self.whereToChange()\n",
    "                    if laneToChange != self.pos:\n",
    "                        self.changeLane(laneToChange)\n",
    "                    else:\n",
    "                        self.speed = 1\n",
    "            if frontEmptySpaces == 1:\n",
    "                if self.lane == 1 and frontVehicle.speed < self.speed:\n",
    "                    if frontVehicle.speed == 0:\n",
    "                        laneToChange = self.whereToChange()\n",
    "                    if laneToChange != self.pos:\n",
    "                        self.changeLane(laneToChange)\n",
    "                    else:\n",
    "                        self.speed = 0\n",
    "\n",
    "            if self.lane != 1 and frontVehicle.speed < self.speed:\n",
    "                self.speed = frontVehicle.speed\n",
    "            # Move agent\n",
    "            self.model.grid.move_agent(self, (self.pos[0], self.pos[1] + self.speed))\n",
    "        else:\n",
    "            # Move agent\n",
    "            self.model.grid.move_agent(self, (self.pos[0], self.pos[1] + self.speed))\n",
    "            "
   ]
  },
  {
   "cell_type": "code",
   "execution_count": 119,
   "metadata": {},
   "outputs": [],
   "source": [
    "def getGrid(model):\n",
    "    grid = np.zeros( (model.grid.width, model.grid.height) )\n",
    "    for (content, x, y) in model.grid.coord_iter():\n",
    "        if model.grid.is_cell_empty((x,y)):\n",
    "            grid[x][y] = 0\n",
    "        else:\n",
    "            grid[x][y] = 1\n",
    "    return grid"
   ]
  },
  {
   "cell_type": "code",
   "execution_count": 120,
   "metadata": {},
   "outputs": [],
   "source": [
    "class HighwayModel(Model):\n",
    "\n",
    "    def __init__(self):\n",
    "        self.numAgents = 300\n",
    "        self.numAgentsCreated = 0\n",
    "        self.grid = SingleGrid(3,183,False)\n",
    "        self.schedule = BaseScheduler(self)\n",
    "        self.datacollector = DataCollector(model_reporters={\"Grid\":getGrid})\n",
    "\n",
    "        #Creación y posicionamiento del primer agente de la simulación\n",
    "        # def __init__(self, unique_id, model, initialLane):\n",
    "        initialRail = np.random.choice([0,1,2])\n",
    "        car = VehicleAgent(self.numAgentsCreated,self,initialRail)\n",
    "        self.grid.place_agent( car,(initialRail,0) )\n",
    "        self.schedule.add(car)\n",
    "        self.numAgentsCreated += 1         \n",
    "\n",
    "    def step(self):\n",
    "        self.datacollector.collect(self)\n",
    "        self.schedule.step()\n",
    "        #Creación de todos los agentes de la simulación\n",
    "        if self.numAgentsCreated < self.numAgents and self.numAgentsCreated >= 1:\n",
    "            initialRail = np.random.choice([0,1,2])\n",
    "            car = VehicleAgent(self.numAgentsCreated,self,initialRail)\n",
    "            self.grid.place_agent( car,(initialRail,0) )\n",
    "            self.schedule.add(car)\n",
    "            self.numAgentsCreated += 1 "
   ]
  },
  {
   "cell_type": "code",
   "execution_count": 121,
   "metadata": {},
   "outputs": [
    {
     "name": "stdout",
     "output_type": "stream",
     "text": [
      "Tiempo de ejecución:  0:00:00.057219\n"
     ]
    }
   ],
   "source": [
    "MAX_ITER = 60\n",
    "\n",
    "start_time = time.time()\n",
    "\n",
    "model = HighwayModel()\n",
    "\n",
    "for i in range(MAX_ITER):\n",
    "    model.step()\n",
    "\n",
    "print(\"Tiempo de ejecución: \", str(datetime.timedelta(seconds=(time.time()-start_time))))"
   ]
  },
  {
   "cell_type": "code",
   "execution_count": 129,
   "metadata": {},
   "outputs": [],
   "source": [
    "all_grid = model.datacollector.get_model_vars_dataframe()\n",
    "#print(all_grid)"
   ]
  },
  {
   "cell_type": "code",
   "execution_count": null,
   "metadata": {},
   "outputs": [],
   "source": [
    "fig, axs = plt.subplots(figsize=(3,3))\n",
    "axs.set_xticks = ([])\n",
    "axs.set_yticks = ([])\n",
    "patch = plt.imshow(all_grid.iloc[0][0], cmap=plt.cm.binary)\n",
    "\n",
    "def animate(i):\n",
    "    patch.set_data(all_grid.iloc[i][0])\n",
    "\n",
    "anim = animation.FuncAnimation(fig,animate,frames=MAX_ITER)"
   ]
  },
  {
   "cell_type": "code",
   "execution_count": null,
   "metadata": {},
   "outputs": [],
   "source": [
    "anim"
   ]
  },
  {
   "cell_type": "code",
   "execution_count": null,
   "metadata": {},
   "outputs": [],
   "source": []
  }
 ],
 "metadata": {
  "kernelspec": {
   "display_name": "Python 3 (ipykernel)",
   "language": "python",
   "name": "python3"
  },
  "language_info": {
   "codemirror_mode": {
    "name": "ipython",
    "version": 3
   },
   "file_extension": ".py",
   "mimetype": "text/x-python",
   "name": "python",
   "nbconvert_exporter": "python",
   "pygments_lexer": "ipython3",
   "version": "3.9.13"
  },
  "vscode": {
   "interpreter": {
    "hash": "9cd1b26266772f1694a3e145fa513fe1341c026ef85c2877ac5b6cf68d324322"
   }
  }
 },
 "nbformat": 4,
 "nbformat_minor": 2
}
